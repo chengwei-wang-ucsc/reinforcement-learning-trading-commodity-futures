{
 "cells": [
  {
   "cell_type": "code",
   "execution_count": null,
   "id": "1e371d72",
   "metadata": {
    "ExecuteTime": {
     "end_time": "2023-05-11T16:35:43.491973Z",
     "start_time": "2023-05-11T16:35:43.125733Z"
    },
    "tags": []
   },
   "outputs": [],
   "source": [
    "%cd \"C:\\\\Users\\\\Administrator\\\\Desktop\\\\强化学习\\\\螺纹钢\\\\10分钟\\\\\"\n",
    "path = \"C:\\\\Users\\\\Administrator\\\\Desktop\\\\强化学习\\\\螺纹钢\\\\10分钟\\\\\"\n",
    "\n",
    "import warnings\n",
    "warnings.filterwarnings(\"ignore\")\n",
    "import time\n",
    "import numpy as np\n",
    "\n",
    "import pandas as pd\n",
    "pd.set_option('display.max_columns',None)\n",
    "pd.set_option('display.max_rows',None)\n",
    "pd.set_option('max_colwidth',None)\n",
    "pd.set_option('display.float_format', lambda x: '%.5f' % x)\n",
    "\n",
    "import random\n",
    "from env.futures_portfoilo_env_deduct_immediately import *\n",
    "from stable_baselines3 import *\n",
    "from stable_baselines3.common.callbacks import *\n",
    "from stable_baselines3.common.vec_env import *\n",
    "\n",
    "import talib\n",
    "import torch\n",
    "import os\n",
    "import optuna\n",
    "from optuna.visualization import *\n",
    "from tqdm import tqdm"
   ]
  },
  {
   "cell_type": "markdown",
   "id": "085bbc00",
   "metadata": {},
   "source": [
    "# Read Data"
   ]
  },
  {
   "cell_type": "code",
   "execution_count": null,
   "id": "744594fd",
   "metadata": {
    "ExecuteTime": {
     "end_time": "2023-04-13T14:44:53.848891Z",
     "start_time": "2023-04-13T14:44:53.635751Z"
    },
    "tags": []
   },
   "outputs": [],
   "source": [
    "train_obs = np.load(path+'Processed_data\\\\train_obs.npy', allow_pickle=True).astype('float32')\n",
    "train_symbols = np.load(path+'Processed_data\\\\train_symbols.npy', allow_pickle=True)\n",
    "train_price = np.load(path+'Processed_data\\\\train_price.npy', allow_pickle=True)\n",
    "valid_factors = np.load(path+'Processed_data\\\\'+'valid_factors.npy', allow_pickle=True).tolist()\n",
    "stock_num = len(train_symbols[0])-1\n",
    "\n",
    "train_obs.shape"
   ]
  },
  {
   "cell_type": "markdown",
   "id": "bcd493da-fc37-4153-a99a-b2f73f5f90de",
   "metadata": {},
   "source": [
    "# Data Quality Check"
   ]
  },
  {
   "cell_type": "code",
   "execution_count": null,
   "id": "4dd3cc73-fc2f-4dda-bf5e-cfa1e2cc7d4c",
   "metadata": {
    "scrolled": true,
    "tags": []
   },
   "outputs": [],
   "source": [
    "zeros = []\n",
    "names = []\n",
    "columns = ['open', 'high', 'low', 'close', 'volume', 'amount', 'vwap', 'open_interest'] + valid_factors\n",
    "for i in range(train_obs.shape[-1]):\n",
    "    tmp_zeros = (train_obs[np.where(train_obs[:,:,i]==0)].shape[0])\n",
    "    names.append(columns[i])\n",
    "    zeros.append(tmp_zeros)\n",
    "    \n",
    "data_quality = pd.DataFrame()\n",
    "names.append('Total Zeros')\n",
    "zeros.append(train_obs[np.where(train_obs==0)].shape[0])\n",
    "names.append('Total Zeros Pct')\n",
    "zeros.append((train_obs[np.where(train_obs==0)].shape[0])/(train_obs.flatten().shape[0]))\n",
    "data_quality['name'] = names\n",
    "data_quality['zeros'] = zeros\n",
    "\n",
    "data_quality"
   ]
  },
  {
   "cell_type": "markdown",
   "id": "2f9ced24",
   "metadata": {},
   "source": [
    "# Callback Function"
   ]
  },
  {
   "cell_type": "code",
   "execution_count": null,
   "id": "7799c286",
   "metadata": {
    "ExecuteTime": {
     "end_time": "2023-04-13T14:44:54.936605Z",
     "start_time": "2023-04-13T14:44:54.923597Z"
    },
    "code_folding": [
     1,
     19,
     24
    ],
    "tags": []
   },
   "outputs": [],
   "source": [
    "class SaveOnBestTrainingRewardCallback(BaseCallback):\n",
    "    def __init__(self, log_dir, max_round, serial_num, early_stop=True, window=1, features=1, ema=1, std=1, \\\n",
    "                test_env=None, test_obs=None):\n",
    "        super(SaveOnBestTrainingRewardCallback, self).__init__() \n",
    "        self.log_dir = log_dir\n",
    "        self.best_reward = -np.inf\n",
    "        self.best_sharpe = -np.inf\n",
    "        self.best_return_1 = -np.inf\n",
    "        self.best_sharpe_1 = -np.inf\n",
    "        self.round = 0\n",
    "        self.max_round = max_round\n",
    "        self.early_stop = early_stop\n",
    "        self.early_stop_counter = 0\n",
    "        self.serial_num = serial_num\n",
    "        self.last_reward = 0\n",
    "        self.window = window\n",
    "        self.features = features\n",
    "        self.test_env = test_env\n",
    "        self.test_obs = test_obs\n",
    "        self.ema = ema\n",
    "        self.std = std\n",
    "    \n",
    "    def _init_callback(self) -> None:\n",
    "        # Create folder if needed\n",
    "        if self.log_dir is not None:\n",
    "            os.makedirs(self.log_dir, exist_ok=True)\n",
    "\n",
    "    def _on_step(self) -> bool:\n",
    "        done = self.locals['infos'][0]['done']\n",
    "        if done == True:\n",
    "            return_1 = self.locals['infos'][0]['return rate']\n",
    "            maxdrawn_1, maxdrawn_duration_1  = self.locals['infos'][0]['maxdrawndown']\n",
    "            sharpe_1 = self.locals['infos'][0]['sharpe']\n",
    "            long_trades = self.locals['infos'][0]['long trades']\n",
    "            short_trades = self.locals['infos'][0]['short trades']\n",
    "            print('')\n",
    "\n",
    "            if return_1 == 0 or return_1 == self.last_reward:\n",
    "                self.early_stop_counter += 1\n",
    "            else:\n",
    "                pass\n",
    "            if return_1 > self.best_return_1:\n",
    "                self.best_return_1 = return_1\n",
    "            else:\n",
    "                pass\n",
    "            if sharpe_1 > self.best_sharpe_1:\n",
    "                self.best_sharpe_1 = sharpe_1\n",
    "            else:\n",
    "                pass       \n",
    "\n",
    "            current_time = time.strftime('%Y-%m-%d_%H-%M-%S',time.localtime(time.time()))\n",
    "            print('------------------Callback Start------------------')\n",
    "            print(\"Round\", self.round, ' has finished at ', current_time)\n",
    "            print(\" Current Best Return Rate: \" ,self.best_return_1, ', Current Best Sharpe: ', self.best_sharpe_1)\n",
    "            if return_1 >= 0.5 and sharpe_1 >= 1 and long_trades != 0 and short_trades != 0:\n",
    "                self.model.save(self.log_dir+\"best_model_\"+self.serial_num+\"_\"+str(self.window)+'_'+str(self.features)\\\n",
    "                                +'_'+str(self.ema)+'_'+str(self.std)+'_'+str(return_1)+'_'+current_time)\n",
    "                print(\"Saving new best model to: \", self.log_dir+\"best_model_\"+self.serial_num+\"_\"+str(self.window)\\\n",
    "                    +'_'+str(self.features)+'_'+str(self.ema)+'_'+str(self.std)+'_'+str(return_1)+'_'+current_time)                       \n",
    "            else:\n",
    "                pass\n",
    "            print('------------------Callback Ends-------------------')\n",
    "            print(\"\")             \n",
    "            self.round += 1\n",
    "            self.last_reward = return_1\n",
    "            \n",
    "            try:\n",
    "                os.remove(self.log_dir+self.serial_num+'.npy')\n",
    "            except:\n",
    "                pass\n",
    "            np.save(self.log_dir+self.serial_num+'.npy', self.best_return_1)\n",
    "            \n",
    "        else:\n",
    "            pass\n",
    "        if self.round >= self.max_round:\n",
    "            continue_training = False\n",
    "            return continue_training\n",
    "        elif self.early_stop == True and self.early_stop_counter > 2:\n",
    "            continue_training = False\n",
    "            return continue_training\n",
    "        else:\n",
    "            continue_training = True\n",
    "            return continue_training"
   ]
  },
  {
   "cell_type": "code",
   "execution_count": null,
   "id": "f9610f99",
   "metadata": {
    "ExecuteTime": {
     "end_time": "2023-04-13T14:44:54.952616Z",
     "start_time": "2023-04-13T14:44:54.938607Z"
    },
    "code_folding": [
     1,
     3
    ],
    "tags": []
   },
   "outputs": [],
   "source": [
    "log_dir = path+\"best_models\\\\\"\n",
    "if os.path.exists(log_dir) == True:\n",
    "    pass\n",
    "else:\n",
    "    os.makedirs(log_dir) "
   ]
  },
  {
   "cell_type": "markdown",
   "id": "e4c1f891",
   "metadata": {},
   "source": [
    "# Parameter Optimization"
   ]
  },
  {
   "cell_type": "code",
   "execution_count": null,
   "id": "822b7ce0",
   "metadata": {
    "ExecuteTime": {
     "end_time": "2023-04-18T07:33:49.723184Z",
     "start_time": "2023-04-13T14:44:54.954617Z"
    },
    "code_folding": [
     0,
     43
    ],
    "scrolled": true,
    "tags": []
   },
   "outputs": [],
   "source": [
    "#Parameter Optimization\n",
    "def objective(trial:optuna.Trial):\n",
    "    torch.cuda.empty_cache()\n",
    "    torch.cuda.set_device(0)\n",
    "    alphabet = 'abcdefghijklmnopqrstuvwxyz1234567890'\n",
    "    characters = str(random.sample(alphabet, 6)).replace(\",\",\"\").replace(\"'\",\"\").replace(\"[\",\"\").replace(\"]\",\"\").replace(\" \",\"\")\n",
    "    #################################################################################################################################\n",
    "    num_env = 2#trial.suggest_int(\"num_env\", 1, 3, 1)\n",
    "    return_style = 1#trial.suggest_int(\"return_style\", 1, 2, 1)\n",
    "    std_period = 150\n",
    "    window_size = int(trial.suggest_int(\"window_size\", 30, train_obs.shape[1], 2))\n",
    "    num_features = int(trial.suggest_int(\"num_features\", 5, train_obs.shape[-1], 1))\n",
    "    EMA_period = 150\n",
    "    tmp_train_obs = train_obs[:,-window_size:,:num_features]\n",
    "    tmp_train_price = train_price\n",
    "    tmp_train_symbols = train_symbols\n",
    "        \n",
    "    print(tmp_train_obs.shape, tmp_train_price.shape, tmp_train_symbols.shape, EMA_period, std_period)\n",
    "    #################################################################################################################################\n",
    "    n_layers_value = trial.suggest_int(\"n_layers_value\", 5, 100, 1)#100\n",
    "    hidden_size_value = trial.suggest_int(\"hidden_size_value\", 16, 1024, 8)#1024\n",
    "    gamma = trial.suggest_loguniform(\"gamma\", 0.01, 1)\n",
    "    normalize_advantage = trial.suggest_categorical(\"normalize_advantage\", [False, True])\n",
    "    max_grad_norm = trial.suggest_loguniform(\"max_grad_norm\", 0.01, 10)\n",
    "    use_rms_prop = trial.suggest_categorical(\"use_rms_prop\", [False, True])\n",
    "    gae_lambda = trial.suggest_loguniform(\"gae_lambda\", 0.1, 1.0)\n",
    "    n_steps = trial.suggest_categorical(\"n_steps\", [8, 16, 32, 64, 128, 256, 512, 1024, 2048])\n",
    "    learning_rate = trial.suggest_loguniform(\"learning_rate\", 1e-5, 1)\n",
    "    ent_coef = trial.suggest_loguniform(\"ent_coef\", 0.00000001, 0.1)\n",
    "    vf_coef = trial.suggest_uniform(\"vf_coef\", 0, 1)\n",
    "    #################################################################################################################################\n",
    "    slippage = 2\n",
    "    commission_rate = 0.00011\n",
    "    env = TradingEnv_2(obs=tmp_train_obs, price=tmp_train_price, symbols=tmp_train_symbols, initial_fund=15000, \n",
    "                       pos_factor=1, both_pos=True, short_only=False, long_only=False, num_stock=stock_num, \n",
    "                       commission_rate=commission_rate, valid_folder=None, mimimum_share=1, slippage=slippage, \n",
    "                       commission=None, test=False, valid=False, active_shares=False, cash_out_stop=False, \n",
    "                       returns=2, calculate_fund=False, action_type=return_style)\n",
    "    rounds = 25\n",
    "    save_best = SaveOnBestTrainingRewardCallback(log_dir, rounds, characters, True, window_size, num_features, \n",
    "                                                 EMA_period, std_period)\n",
    "    rounds_of_train = (tmp_train_obs.shape[0])*rounds\n",
    "    net_pi = []\n",
    "    net_vf = []\n",
    "    for i in range(n_layers_value):\n",
    "        net_pi.append(hidden_size_value)\n",
    "        net_vf.append(hidden_size_value)\n",
    "    policy_kwargs = dict(net_arch=[dict(pi=net_pi, vf=net_vf)])\n",
    "    print('Now Using GPU No.', torch.cuda.current_device())\n",
    "    #################################################################################################################################\n",
    "    try:\n",
    "        model = A2C(policy='MlpPolicy', env=env, learning_rate=learning_rate, n_steps=n_steps, \n",
    "                    gamma=gamma, vf_coef=vf_coef, max_grad_norm=max_grad_norm, use_rms_prop=use_rms_prop, \n",
    "                    normalize_advantage=normalize_advantage, verbose=1, seed=123456, device='cuda', \n",
    "                    gae_lambda=gae_lambda, ent_coef=ent_coef, policy_kwargs=policy_kwargs)\n",
    "        model.learn(total_timesteps=rounds_of_train, callback=save_best, log_interval=None)\n",
    "        sharpe = np.load(log_dir+characters+'.npy', allow_pickle=True)\n",
    "        os.remove(log_dir+characters+'.npy')\n",
    "        torch.cuda.empty_cache()\n",
    "    except Exception as e:\n",
    "        print()\n",
    "        print('********************Error Info Start********************')\n",
    "        print(e)\n",
    "        print('********************Error Info End********************')\n",
    "        print()\n",
    "        sharpe = -np.inf\n",
    "        torch.cuda.empty_cache()\n",
    "    model = None\n",
    "    return sharpe\n",
    "study = optuna.create_study(direction=\"maximize\")\n",
    "study.optimize(objective, n_trials=100, n_jobs=1)"
   ]
  },
  {
   "cell_type": "code",
   "execution_count": null,
   "id": "fa35f8da",
   "metadata": {
    "ExecuteTime": {
     "end_time": "2023-04-18T07:33:53.771859Z",
     "start_time": "2023-04-18T07:33:53.413624Z"
    },
    "tags": []
   },
   "outputs": [],
   "source": [
    "matplotlib.plot_optimization_history(study)"
   ]
  },
  {
   "cell_type": "code",
   "execution_count": null,
   "id": "164bed49",
   "metadata": {
    "ExecuteTime": {
     "end_time": "2023-04-18T07:35:27.358772Z",
     "start_time": "2023-04-18T07:33:54.055045Z"
    },
    "scrolled": true,
    "tags": []
   },
   "outputs": [],
   "source": [
    "matplotlib.plot_param_importances(study)"
   ]
  },
  {
   "cell_type": "code",
   "execution_count": null,
   "id": "9830e7a7",
   "metadata": {
    "ExecuteTime": {
     "end_time": "2023-04-18T07:36:08.946162Z",
     "start_time": "2023-04-18T07:36:08.558905Z"
    },
    "scrolled": true,
    "tags": []
   },
   "outputs": [],
   "source": [
    "matplotlib.plot_slice(study, params=[\"n_layers_value\", \"hidden_size_value\"])"
   ]
  },
  {
   "cell_type": "code",
   "execution_count": null,
   "id": "6f7e1da8-4e20-4140-a0ad-e78995c09178",
   "metadata": {},
   "outputs": [],
   "source": []
  }
 ],
 "metadata": {
  "kernelspec": {
   "display_name": "Python 3 (ipykernel)",
   "language": "python",
   "name": "python3"
  },
  "language_info": {
   "codemirror_mode": {
    "name": "ipython",
    "version": 3
   },
   "file_extension": ".py",
   "mimetype": "text/x-python",
   "name": "python",
   "nbconvert_exporter": "python",
   "pygments_lexer": "ipython3",
   "version": "3.10.9"
  },
  "toc": {
   "base_numbering": 1,
   "nav_menu": {},
   "number_sections": true,
   "sideBar": true,
   "skip_h1_title": false,
   "title_cell": "Table of Contents",
   "title_sidebar": "Contents",
   "toc_cell": false,
   "toc_position": {
    "height": "calc(100% - 180px)",
    "left": "10px",
    "top": "150px",
    "width": "512px"
   },
   "toc_section_display": true,
   "toc_window_display": false
  },
  "varInspector": {
   "cols": {
    "lenName": 16,
    "lenType": 16,
    "lenVar": 40
   },
   "kernels_config": {
    "python": {
     "delete_cmd_postfix": "",
     "delete_cmd_prefix": "del ",
     "library": "var_list.py",
     "varRefreshCmd": "print(var_dic_list())"
    },
    "r": {
     "delete_cmd_postfix": ") ",
     "delete_cmd_prefix": "rm(",
     "library": "var_list.r",
     "varRefreshCmd": "cat(var_dic_list()) "
    }
   },
   "types_to_exclude": [
    "module",
    "function",
    "builtin_function_or_method",
    "instance",
    "_Feature"
   ],
   "window_display": false
  },
  "vscode": {
   "interpreter": {
    "hash": "71159c3bea1635b2cdba277ecffbc628f93ffdcebf06bf6a363dd68ab8387877"
   }
  }
 },
 "nbformat": 4,
 "nbformat_minor": 5
}
