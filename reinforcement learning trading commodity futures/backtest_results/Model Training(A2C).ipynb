{
 "cells": [
  {
   "cell_type": "code",
   "execution_count": 1,
   "id": "1e371d72",
   "metadata": {
    "ExecuteTime": {
     "end_time": "2023-03-24T13:33:44.420967Z",
     "start_time": "2023-03-24T13:33:42.470199Z"
    }
   },
   "outputs": [
    {
     "name": "stdout",
     "output_type": "stream",
     "text": [
      "C:\\Users\\budin\\Desktop\\github\\reinforcement learning trading commodity futures\n"
     ]
    }
   ],
   "source": [
    "%cd \"C:\\\\Users\\\\budin\\\\Desktop\\\\github\\\\reinforcement learning trading commodity futures\\\\\"\n",
    "path = \"C:\\\\Users\\\\budin\\\\Desktop\\\\github\\\\reinforcement learning trading commodity futures\\\\\"\n",
    "\n",
    "import warnings\n",
    "warnings.filterwarnings(\"ignore\")\n",
    "import time\n",
    "from tqdm import tqdm\n",
    "import numpy as np\n",
    "import pandas as pd\n",
    "#显示Dateframe所有列(参数设置为None代表显示所有行，也可以自行设置数字)\n",
    "pd.set_option('display.max_columns',None)\n",
    "#显示Dateframe所有行\n",
    "pd.set_option('display.max_rows',None)\n",
    "#设置Dataframe数据的显示长度，默认为50\n",
    "pd.set_option('max_colwidth',200)\n",
    "#不显示科学计数法，保留5位小数\n",
    "pd.set_option('display.float_format', lambda x: '%.5f' % x)\n",
    "import random\n",
    "from env.futures_portfoilo_env import *\n",
    "from stable_baselines3 import *\n",
    "\n",
    "import torch\n",
    "import os\n",
    "import datetime"
   ]
  },
  {
   "cell_type": "markdown",
   "id": "085bbc00",
   "metadata": {},
   "source": [
    "# Read Data"
   ]
  },
  {
   "cell_type": "code",
   "execution_count": 2,
   "id": "744594fd",
   "metadata": {
    "ExecuteTime": {
     "end_time": "2023-03-24T13:33:44.556056Z",
     "start_time": "2023-03-24T13:33:44.422969Z"
    }
   },
   "outputs": [
    {
     "data": {
      "text/plain": [
       "((8131, 147, 36),\n",
       " (8131, 6),\n",
       " (8131, 2),\n",
       " array(['4687.0', '4704.0', '4651.0', '4675.0', '214037',\n",
       "        '2021-03-01 09:15:00'], dtype='<U32'),\n",
       " array(['4115.0', '4120.0', '4110.0', '4115.0', '36422',\n",
       "        '2022-08-15 23:00:00'], dtype='<U32'),\n",
       " 1)"
      ]
     },
     "execution_count": 2,
     "metadata": {},
     "output_type": "execute_result"
    }
   ],
   "source": [
    "train_obs = np.load('Processed Data//processed_train.npy', allow_pickle=True)\n",
    "train_symbols = np.load('Processed Data//processed_train_1.npy', allow_pickle=True)\n",
    "train_price = np.load('Processed Data//processed_train_2.npy', allow_pickle=True)\n",
    "stock_num = len(train_symbols[0])-1\n",
    "\n",
    "train_obs.shape, train_price.shape, train_symbols.shape, train_price[0], train_price[-1], stock_num"
   ]
  },
  {
   "cell_type": "code",
   "execution_count": 3,
   "id": "a7ed6983",
   "metadata": {
    "ExecuteTime": {
     "end_time": "2023-03-24T13:33:44.886272Z",
     "start_time": "2023-03-24T13:33:44.559058Z"
    }
   },
   "outputs": [
    {
     "data": {
      "text/plain": [
       "(array(['SHFE.rb2105', '2021-03-01 09:15:00'], dtype='<U19'),\n",
       " (array([], dtype=int64), array([], dtype=int64), array([], dtype=int64)),\n",
       " (array([], dtype=int64), array([], dtype=int64), array([], dtype=int64)))"
      ]
     },
     "execution_count": 3,
     "metadata": {},
     "output_type": "execute_result"
    }
   ],
   "source": [
    "train_symbols[0], np.where(np.isnan(train_obs)==True), np.where(np.isinf(train_obs)==True)"
   ]
  },
  {
   "cell_type": "markdown",
   "id": "8f18845b",
   "metadata": {},
   "source": [
    "# Data Quality Check\n",
    "If the training dataset contains too many zeros, it may negatively affect the resulting model's accuracy."
   ]
  },
  {
   "cell_type": "code",
   "execution_count": 4,
   "id": "22d96242",
   "metadata": {
    "ExecuteTime": {
     "end_time": "2023-03-24T13:33:45.486666Z",
     "start_time": "2023-03-24T13:33:44.888274Z"
    },
    "code_folding": [
     2,
     6
    ],
    "scrolled": true
   },
   "outputs": [
    {
     "data": {
      "text/html": [
       "<div>\n",
       "<style scoped>\n",
       "    .dataframe tbody tr th:only-of-type {\n",
       "        vertical-align: middle;\n",
       "    }\n",
       "\n",
       "    .dataframe tbody tr th {\n",
       "        vertical-align: top;\n",
       "    }\n",
       "\n",
       "    .dataframe thead th {\n",
       "        text-align: right;\n",
       "    }\n",
       "</style>\n",
       "<table border=\"1\" class=\"dataframe\">\n",
       "  <thead>\n",
       "    <tr style=\"text-align: right;\">\n",
       "      <th></th>\n",
       "      <th>name</th>\n",
       "      <th>zeros</th>\n",
       "    </tr>\n",
       "  </thead>\n",
       "  <tbody>\n",
       "    <tr>\n",
       "      <th>0</th>\n",
       "      <td>open</td>\n",
       "      <td>0.00000</td>\n",
       "    </tr>\n",
       "    <tr>\n",
       "      <th>1</th>\n",
       "      <td>close</td>\n",
       "      <td>0.00000</td>\n",
       "    </tr>\n",
       "    <tr>\n",
       "      <th>2</th>\n",
       "      <td>high</td>\n",
       "      <td>0.00000</td>\n",
       "    </tr>\n",
       "    <tr>\n",
       "      <th>3</th>\n",
       "      <td>low</td>\n",
       "      <td>0.00000</td>\n",
       "    </tr>\n",
       "    <tr>\n",
       "      <th>4</th>\n",
       "      <td>volume</td>\n",
       "      <td>0.00000</td>\n",
       "    </tr>\n",
       "    <tr>\n",
       "      <th>5</th>\n",
       "      <td>symbol</td>\n",
       "      <td>0.00000</td>\n",
       "    </tr>\n",
       "    <tr>\n",
       "      <th>6</th>\n",
       "      <td>DX</td>\n",
       "      <td>0.00000</td>\n",
       "    </tr>\n",
       "    <tr>\n",
       "      <th>7</th>\n",
       "      <td>CORREL</td>\n",
       "      <td>0.00000</td>\n",
       "    </tr>\n",
       "    <tr>\n",
       "      <th>8</th>\n",
       "      <td>HT_PHASOR1</td>\n",
       "      <td>0.00000</td>\n",
       "    </tr>\n",
       "    <tr>\n",
       "      <th>9</th>\n",
       "      <td>SUB</td>\n",
       "      <td>347.00000</td>\n",
       "    </tr>\n",
       "    <tr>\n",
       "      <th>10</th>\n",
       "      <td>MINUS_DM</td>\n",
       "      <td>0.00000</td>\n",
       "    </tr>\n",
       "    <tr>\n",
       "      <th>11</th>\n",
       "      <td>TRANGE</td>\n",
       "      <td>147.00000</td>\n",
       "    </tr>\n",
       "    <tr>\n",
       "      <th>12</th>\n",
       "      <td>MINUS_DI</td>\n",
       "      <td>0.00000</td>\n",
       "    </tr>\n",
       "    <tr>\n",
       "      <th>13</th>\n",
       "      <td>DIV</td>\n",
       "      <td>0.00000</td>\n",
       "    </tr>\n",
       "    <tr>\n",
       "      <th>14</th>\n",
       "      <td>ATR</td>\n",
       "      <td>0.00000</td>\n",
       "    </tr>\n",
       "    <tr>\n",
       "      <th>15</th>\n",
       "      <td>AD</td>\n",
       "      <td>0.00000</td>\n",
       "    </tr>\n",
       "    <tr>\n",
       "      <th>16</th>\n",
       "      <td>MAX</td>\n",
       "      <td>147.00000</td>\n",
       "    </tr>\n",
       "    <tr>\n",
       "      <th>17</th>\n",
       "      <td>MINMAX1</td>\n",
       "      <td>147.00000</td>\n",
       "    </tr>\n",
       "    <tr>\n",
       "      <th>18</th>\n",
       "      <td>LINEARREG_INTERCEPT</td>\n",
       "      <td>0.00000</td>\n",
       "    </tr>\n",
       "    <tr>\n",
       "      <th>19</th>\n",
       "      <td>ADX</td>\n",
       "      <td>0.00000</td>\n",
       "    </tr>\n",
       "    <tr>\n",
       "      <th>20</th>\n",
       "      <td>TRIMA</td>\n",
       "      <td>0.00000</td>\n",
       "    </tr>\n",
       "    <tr>\n",
       "      <th>21</th>\n",
       "      <td>NATR</td>\n",
       "      <td>0.00000</td>\n",
       "    </tr>\n",
       "    <tr>\n",
       "      <th>22</th>\n",
       "      <td>STDDEV</td>\n",
       "      <td>0.00000</td>\n",
       "    </tr>\n",
       "    <tr>\n",
       "      <th>23</th>\n",
       "      <td>HT_TRENDLINE</td>\n",
       "      <td>0.00000</td>\n",
       "    </tr>\n",
       "    <tr>\n",
       "      <th>24</th>\n",
       "      <td>KAMA</td>\n",
       "      <td>0.00000</td>\n",
       "    </tr>\n",
       "    <tr>\n",
       "      <th>25</th>\n",
       "      <td>SUM</td>\n",
       "      <td>0.00000</td>\n",
       "    </tr>\n",
       "    <tr>\n",
       "      <th>26</th>\n",
       "      <td>SMA</td>\n",
       "      <td>0.00000</td>\n",
       "    </tr>\n",
       "    <tr>\n",
       "      <th>27</th>\n",
       "      <td>MA</td>\n",
       "      <td>0.00000</td>\n",
       "    </tr>\n",
       "    <tr>\n",
       "      <th>28</th>\n",
       "      <td>SAR</td>\n",
       "      <td>0.00000</td>\n",
       "    </tr>\n",
       "    <tr>\n",
       "      <th>29</th>\n",
       "      <td>WMA</td>\n",
       "      <td>0.00000</td>\n",
       "    </tr>\n",
       "    <tr>\n",
       "      <th>30</th>\n",
       "      <td>EMA</td>\n",
       "      <td>0.00000</td>\n",
       "    </tr>\n",
       "    <tr>\n",
       "      <th>31</th>\n",
       "      <td>MIDPRICE</td>\n",
       "      <td>0.00000</td>\n",
       "    </tr>\n",
       "    <tr>\n",
       "      <th>32</th>\n",
       "      <td>MAMA1</td>\n",
       "      <td>0.00000</td>\n",
       "    </tr>\n",
       "    <tr>\n",
       "      <th>33</th>\n",
       "      <td>MIDPOINT</td>\n",
       "      <td>0.00000</td>\n",
       "    </tr>\n",
       "    <tr>\n",
       "      <th>34</th>\n",
       "      <td>DEMA</td>\n",
       "      <td>0.00000</td>\n",
       "    </tr>\n",
       "    <tr>\n",
       "      <th>35</th>\n",
       "      <td>BBANDS0</td>\n",
       "      <td>0.00000</td>\n",
       "    </tr>\n",
       "    <tr>\n",
       "      <th>36</th>\n",
       "      <td>Total Zeros</td>\n",
       "      <td>788.00000</td>\n",
       "    </tr>\n",
       "    <tr>\n",
       "      <th>37</th>\n",
       "      <td>Total Zeros Pct</td>\n",
       "      <td>0.00002</td>\n",
       "    </tr>\n",
       "  </tbody>\n",
       "</table>\n",
       "</div>"
      ],
      "text/plain": [
       "                   name     zeros\n",
       "0                  open   0.00000\n",
       "1                 close   0.00000\n",
       "2                  high   0.00000\n",
       "3                   low   0.00000\n",
       "4                volume   0.00000\n",
       "5                symbol   0.00000\n",
       "6                    DX   0.00000\n",
       "7                CORREL   0.00000\n",
       "8            HT_PHASOR1   0.00000\n",
       "9                   SUB 347.00000\n",
       "10             MINUS_DM   0.00000\n",
       "11               TRANGE 147.00000\n",
       "12             MINUS_DI   0.00000\n",
       "13                  DIV   0.00000\n",
       "14                  ATR   0.00000\n",
       "15                   AD   0.00000\n",
       "16                  MAX 147.00000\n",
       "17              MINMAX1 147.00000\n",
       "18  LINEARREG_INTERCEPT   0.00000\n",
       "19                  ADX   0.00000\n",
       "20                TRIMA   0.00000\n",
       "21                 NATR   0.00000\n",
       "22               STDDEV   0.00000\n",
       "23         HT_TRENDLINE   0.00000\n",
       "24                 KAMA   0.00000\n",
       "25                  SUM   0.00000\n",
       "26                  SMA   0.00000\n",
       "27                   MA   0.00000\n",
       "28                  SAR   0.00000\n",
       "29                  WMA   0.00000\n",
       "30                  EMA   0.00000\n",
       "31             MIDPRICE   0.00000\n",
       "32                MAMA1   0.00000\n",
       "33             MIDPOINT   0.00000\n",
       "34                 DEMA   0.00000\n",
       "35              BBANDS0   0.00000\n",
       "36          Total Zeros 788.00000\n",
       "37      Total Zeros Pct   0.00002"
      ]
     },
     "execution_count": 4,
     "metadata": {},
     "output_type": "execute_result"
    }
   ],
   "source": [
    "zeros = []\n",
    "names = []\n",
    "columns = ['open', 'close', 'high', 'low', 'volume', 'symbol', 'DX', 'CORREL', 'HT_PHASOR1', 'SUB', 'MINUS_DM', 'TRANGE', 'MINUS_DI', 'DIV',\n",
    "            'ATR', 'AD', 'MAX', 'MINMAX1', 'LINEARREG_INTERCEPT', 'ADX', 'TRIMA', 'NATR', 'STDDEV',\n",
    "            'HT_TRENDLINE', 'KAMA', 'SUM', 'SMA', 'MA', 'SAR', 'WMA', 'EMA', 'MIDPRICE', 'MAMA1',\n",
    "            'MIDPOINT', 'DEMA', 'BBANDS0']\n",
    "for i in range(train_obs.shape[-1]):\n",
    "    tmp_zeros = (train_obs[np.where(train_obs[:,:,i]==0)].shape[0])\n",
    "    names.append(columns[i])\n",
    "    zeros.append(tmp_zeros)\n",
    "    \n",
    "data_quality = pd.DataFrame()\n",
    "names.append('Total Zeros')\n",
    "zeros.append(train_obs[np.where(train_obs==0)].shape[0])\n",
    "names.append('Total Zeros Pct')\n",
    "zeros.append((train_obs[np.where(train_obs==0)].shape[0])/(train_obs.flatten().shape[0]))\n",
    "data_quality['name'] = names\n",
    "data_quality['zeros'] = zeros\n",
    "\n",
    "data_quality"
   ]
  },
  {
   "cell_type": "markdown",
   "id": "40b06c2c",
   "metadata": {},
   "source": [
    "# Train and Save Agent"
   ]
  },
  {
   "cell_type": "code",
   "execution_count": 5,
   "id": "f9610f99",
   "metadata": {
    "ExecuteTime": {
     "end_time": "2023-03-24T13:33:45.501676Z",
     "start_time": "2023-03-24T13:33:45.487667Z"
    },
    "code_folding": [
     1,
     3
    ]
   },
   "outputs": [],
   "source": [
    "log_dir = path+\"best_models\\\\\"\n",
    "if os.path.exists(log_dir) == True:\n",
    "    pass\n",
    "else:\n",
    "    os.makedirs(log_dir) "
   ]
  },
  {
   "cell_type": "code",
   "execution_count": 6,
   "id": "7ae42b72",
   "metadata": {
    "ExecuteTime": {
     "end_time": "2023-03-24T13:35:57.178917Z",
     "start_time": "2023-03-24T13:33:45.503678Z"
    },
    "code_folding": [
     7
    ],
    "scrolled": true
   },
   "outputs": [
    {
     "name": "stdout",
     "output_type": "stream",
     "text": [
      "Using cuda device\n",
      "Wrapping the env with a `Monitor` wrapper\n",
      "Wrapping the env in a DummyVecEnv.\n",
      "------------------This Round Info------------------\n",
      "Active Shares:  False , Trading Option:  Both Position\n",
      "Long Trades:  137 , Short Trades:  153\n",
      "Step Index:  8130\n",
      "Initial Account Balance:  15000\n",
      "End Account Balance:  163.87519999999736\n",
      "Rate of Return:  -0.9890749866666669\n",
      "Sharpe Ratio:  -1.4762105325809627\n",
      "MaxdrawDown:  0.9893640444964872\n",
      "------------------This Round Ends------------------\n",
      "------------------This Round Info------------------\n",
      "Active Shares:  False , Trading Option:  Both Position\n",
      "Long Trades:  0 , Short Trades:  29\n",
      "Step Index:  8130\n",
      "Initial Account Balance:  15000\n",
      "End Account Balance:  22844.2626\n",
      "Rate of Return:  0.5229508399999999\n",
      "Sharpe Ratio:  0.8789501674765215\n",
      "MaxdrawDown:  0.4285551113596207\n",
      "------------------This Round Ends------------------\n"
     ]
    }
   ],
   "source": [
    "torch.cuda.set_device(1)\n",
    "rounds = 2\n",
    "log_dir = path+\"best_models\\\\\"\n",
    "serial_num = 'abcddef'\n",
    "window_size = 100\n",
    "num_indicators = 30\n",
    "tmp_train_obs = train_obs[:,-window_size:,:num_indicators]\n",
    "\n",
    "env = TradingEnv_2(obs=tmp_train_obs, price=train_price, symbols=train_symbols, initial_fund=15000, \n",
    "                   pos_factor=1, both_pos=True, short_only=False, long_only=False, num_stock=stock_num, \n",
    "                   commission_rate=0.00011, valid_folder=None, mimimum_share=1, slippage=2, \n",
    "                   commission=None, test=False, valid=False, active_shares=False, cash_out_stop=False, \n",
    "                   returns=2, calculate_fund=False)\n",
    "rounds_of_train = (train_obs.shape[0])*rounds\n",
    "policy_kwargs = dict(net_arch=[dict(pi=[512]*15, vf=[512]*15)])\n",
    "\n",
    "model = A2C(policy=\"MlpPolicy\", env=env, verbose=1, seed=123456, device='cuda', policy_kwargs=policy_kwargs)\n",
    "model.learn(total_timesteps=rounds_of_train, log_interval=None)\n",
    "model.save(log_dir+\"best_model_\"+serial_num+\"_\"+str(window_size)+'_'+str(num_indicators))"
   ]
  },
  {
   "cell_type": "code",
   "execution_count": null,
   "id": "3083b868",
   "metadata": {},
   "outputs": [],
   "source": []
  }
 ],
 "metadata": {
  "kernelspec": {
   "display_name": "Python 3 (ipykernel)",
   "language": "python",
   "name": "python3"
  },
  "language_info": {
   "codemirror_mode": {
    "name": "ipython",
    "version": 3
   },
   "file_extension": ".py",
   "mimetype": "text/x-python",
   "name": "python",
   "nbconvert_exporter": "python",
   "pygments_lexer": "ipython3",
   "version": "3.9.13"
  },
  "toc": {
   "base_numbering": 1,
   "nav_menu": {},
   "number_sections": true,
   "sideBar": true,
   "skip_h1_title": false,
   "title_cell": "Table of Contents",
   "title_sidebar": "Contents",
   "toc_cell": false,
   "toc_position": {
    "height": "calc(100% - 180px)",
    "left": "10px",
    "top": "150px",
    "width": "512px"
   },
   "toc_section_display": true,
   "toc_window_display": false
  },
  "varInspector": {
   "cols": {
    "lenName": 16,
    "lenType": 16,
    "lenVar": 40
   },
   "kernels_config": {
    "python": {
     "delete_cmd_postfix": "",
     "delete_cmd_prefix": "del ",
     "library": "var_list.py",
     "varRefreshCmd": "print(var_dic_list())"
    },
    "r": {
     "delete_cmd_postfix": ") ",
     "delete_cmd_prefix": "rm(",
     "library": "var_list.r",
     "varRefreshCmd": "cat(var_dic_list()) "
    }
   },
   "types_to_exclude": [
    "module",
    "function",
    "builtin_function_or_method",
    "instance",
    "_Feature"
   ],
   "window_display": false
  },
  "vscode": {
   "interpreter": {
    "hash": "71159c3bea1635b2cdba277ecffbc628f93ffdcebf06bf6a363dd68ab8387877"
   }
  }
 },
 "nbformat": 4,
 "nbformat_minor": 5
}
