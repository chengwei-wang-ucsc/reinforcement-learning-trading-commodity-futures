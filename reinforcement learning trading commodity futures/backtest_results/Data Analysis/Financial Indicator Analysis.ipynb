{
 "cells": [
  {
   "cell_type": "markdown",
   "id": "38f50d9f",
   "metadata": {},
   "source": [
    "In this notebook, I used Ta-lib's abstract API to add all the financial indicators that Ta-lib has to offer. When dealing with a dataset that contains multiple instruments or stocks, one needs to avoid applying the indicators to the entire dataset all-in-once; the correct way is to calculate each stock's indicators individually. This notebook works for datasets that has only one stock or multiple stocks"
   ]
  },
  {
   "cell_type": "code",
   "execution_count": 1,
   "id": "6c5bb934",
   "metadata": {
    "ExecuteTime": {
     "end_time": "2023-03-24T12:39:15.439624Z",
     "start_time": "2023-03-24T12:39:15.105405Z"
    }
   },
   "outputs": [],
   "source": [
    "import warnings\n",
    "warnings.filterwarnings(\"ignore\")\n",
    "import pandas as pd\n",
    "import numpy as np\n",
    "import os\n",
    "from tqdm import tqdm\n",
    "import talib\n",
    "from talib import abstract\n",
    "from finta import TA"
   ]
  },
  {
   "cell_type": "code",
   "execution_count": 2,
   "id": "2f6cf9ba",
   "metadata": {
    "ExecuteTime": {
     "end_time": "2023-03-24T12:39:15.487655Z",
     "start_time": "2023-03-24T12:39:15.440625Z"
    },
    "code_folding": [
     3
    ],
    "scrolled": true
   },
   "outputs": [
    {
     "data": {
      "text/plain": [
       "(246,\n",
       " date          0\n",
       " tic           0\n",
       " open          0\n",
       " close         0\n",
       " high          0\n",
       " low           0\n",
       " volume        0\n",
       " pct_change    0\n",
       " dtype: int64,\n",
       " array(['KQ.m@SHFE.rb'], dtype=object),\n",
       " Index(['date', 'tic', 'open', 'close', 'high', 'low', 'volume', 'pct_change'], dtype='object'),\n",
       " (8261, 8),\n",
       "                             date           tic    open   close    high  \\\n",
       " 0  2021-04-15 09:00:00.000000000  KQ.m@SHFE.rb  5147.0  5130.0  5150.0   \n",
       " 1  2021-04-15 09:15:00.000000000  KQ.m@SHFE.rb  5130.0  5132.0  5139.0   \n",
       " 2  2021-04-15 09:30:00.000000000  KQ.m@SHFE.rb  5132.0  5126.0  5136.0   \n",
       " 3  2021-04-15 09:45:00.000000000  KQ.m@SHFE.rb  5126.0  5112.0  5126.0   \n",
       " 4  2021-04-15 10:00:00.000000000  KQ.m@SHFE.rb  5112.0  5137.0  5137.0   \n",
       " \n",
       "       low  volume  pct_change  \n",
       " 0  5122.0  106792    0.000000  \n",
       " 1  5129.0   46088    0.000390  \n",
       " 2  5125.0   49828   -0.001169  \n",
       " 3  5108.0  114306   -0.002731  \n",
       " 4  5112.0   92887    0.004890  ,\n",
       "                                date           tic    open   close    high  \\\n",
       " 8256  2022-10-14 21:45:00.000000000  KQ.m@SHFE.rb  3736.0  3715.0  3736.0   \n",
       " 8257  2022-10-14 22:00:00.000000000  KQ.m@SHFE.rb  3715.0  3717.0  3722.0   \n",
       " 8258  2022-10-14 22:15:00.000000000  KQ.m@SHFE.rb  3717.0  3711.0  3720.0   \n",
       " 8259  2022-10-14 22:30:00.000000000  KQ.m@SHFE.rb  3711.0  3698.0  3716.0   \n",
       " 8260  2022-10-14 22:45:00.000000000  KQ.m@SHFE.rb  3698.0  3685.0  3699.0   \n",
       " \n",
       "          low  volume  pct_change  \n",
       " 8256  3714.0  130507   -0.005621  \n",
       " 8257  3711.0   74800    0.000538  \n",
       " 8258  3706.0   83333   -0.001614  \n",
       " 8259  3692.0  130630   -0.003503  \n",
       " 8260  3683.0  126543   -0.003515  )"
      ]
     },
     "execution_count": 2,
     "metadata": {},
     "output_type": "execute_result"
    }
   ],
   "source": [
    "file_dir = \"Raw Data\\\\\"\n",
    "files_1 = os.listdir(file_dir)\n",
    "train_df = pd.DataFrame()\n",
    "for e in files_1:\n",
    "    if 'train' in e:\n",
    "        tmp_df = pd.DataFrame(pd.read_csv(file_dir+e))\n",
    "        tmp_df = tmp_df.drop(columns=['KQ.m@SHFE.rb.open_oi', 'KQ.m@SHFE.rb.close_oi', 'datetime_nano'])\n",
    "        tmp_df['symbol'] = ['KQ.m@SHFE.rb']*len(tmp_df)\n",
    "        tmp_df = tmp_df.rename(columns={\"symbol\": \"tic\", 'datetime': 'date', 'KQ.m@SHFE.rb.high':'high',\n",
    "                                       'KQ.m@SHFE.rb.low':'low', 'KQ.m@SHFE.rb.open':'open', \n",
    "                                        'KQ.m@SHFE.rb.close':'close', 'KQ.m@SHFE.rb.volume':'volume',})\n",
    "        order = ['date', 'tic', 'open', 'close', 'high', 'low', 'volume']\n",
    "        tmp_df = tmp_df[order]\n",
    "        train_df = train_df.append(tmp_df)\n",
    "    else:\n",
    "        pass\n",
    "train_df = train_df.reset_index(drop=True)\n",
    "tickers = train_df.tic.unique()\n",
    "train_df['pct_change'] = train_df.close.pct_change().fillna(0)\n",
    "\n",
    "np.sum((train_df==0).sum().values), train_df.isna().sum(), tickers, train_df.columns, train_df.shape, train_df.head(5), train_df.tail(5)"
   ]
  },
  {
   "cell_type": "markdown",
   "id": "264bc23e",
   "metadata": {},
   "source": [
    "# Get All Features\n",
    "The abstract API of Ta-lib libary is used."
   ]
  },
  {
   "cell_type": "code",
   "execution_count": 3,
   "id": "b800102c",
   "metadata": {
    "ExecuteTime": {
     "end_time": "2023-03-24T12:39:15.647760Z",
     "start_time": "2023-03-24T12:39:15.489657Z"
    },
    "code_folding": [
     8
    ],
    "run_control": {
     "marked": false
    },
    "scrolled": true
   },
   "outputs": [
    {
     "name": "stderr",
     "output_type": "stream",
     "text": [
      "100%|████████████████████████████████████████████████████████████████████████████████████| 1/1 [00:00<00:00, 10.41it/s]"
     ]
    },
    {
     "name": "stdout",
     "output_type": "stream",
     "text": [
      "Error:  MAVP\n"
     ]
    },
    {
     "name": "stderr",
     "output_type": "stream",
     "text": [
      "\n"
     ]
    },
    {
     "data": {
      "text/plain": [
       "((8061, 182),\n",
       "                             date           tic    open   close    high  \\\n",
       " 0  2021-04-27 21:15:00.000000000  KQ.m@SHFE.rb  5390.0  5362.0  5394.0   \n",
       " \n",
       "       low    volume  pct_change  HT_DCPERIOD  HT_DCPHASE  ...  \\\n",
       " 0  5361.0  119462.0   -0.005195    21.982462  211.580373  ...   \n",
       " \n",
       "    LINEARREG_SLOPE    STDDEV          TSF     VAR       ATR      NATR  TRANGE  \\\n",
       " 0        -1.002198  20.55821  5394.340659  422.64  19.60218  0.365576    33.0   \n",
       " \n",
       "              AD         ADOSC        OBV  \n",
       " 0  2.684909e+06 -50754.445123  2396522.0  \n",
       " \n",
       " [1 rows x 182 columns],\n",
       "                                date           tic    open   close    high  \\\n",
       " 8060  2022-10-14 22:45:00.000000000  KQ.m@SHFE.rb  3698.0  3685.0  3699.0   \n",
       " \n",
       "          low    volume  pct_change  HT_DCPERIOD  HT_DCPHASE  ...  \\\n",
       " 8060  3683.0  126543.0   -0.003515     30.60919  260.302071  ...   \n",
       " \n",
       "       LINEARREG_SLOPE     STDDEV          TSF     VAR        ATR      NATR  \\\n",
       " 8060        -5.953846  12.073111  3690.703297  145.76  15.229621  0.413287   \n",
       " \n",
       "       TRANGE             AD          ADOSC        OBV  \n",
       " 8060    16.0 -933448.320654 -135682.304418 -5938200.0  \n",
       " \n",
       " [1 rows x 182 columns],\n",
       " 1,\n",
       " date      0\n",
       " tic       0\n",
       " open      0\n",
       " close     0\n",
       " high      0\n",
       "          ..\n",
       " NATR      0\n",
       " TRANGE    0\n",
       " AD        0\n",
       " ADOSC     0\n",
       " OBV       0\n",
       " Length: 182, dtype: int64)"
      ]
     },
     "execution_count": 3,
     "metadata": {},
     "output_type": "execute_result"
    }
   ],
   "source": [
    "columns = ['open', 'close', 'high', 'low', 'volume']\n",
    "for a in columns:\n",
    "    train_df[a] = train_df[a].values.astype('float64')\n",
    "\n",
    "window_size = 125\n",
    "individual_length = train_df[train_df.tic==tickers[0]].shape[0]\n",
    "ta_list = talib.get_functions()\n",
    "pre_processed_train_df = pd.DataFrame()\n",
    "for i in tqdm(range(len(tickers))):\n",
    "    tmp_df = train_df[train_df.tic==tickers[i]]\n",
    "    for x in ta_list:\n",
    "        try:\n",
    "            output = eval('abstract.'+x+'(tmp_df)')\n",
    "            if len(output.shape)>1 and len(output.shape)<10:\n",
    "                for a in range(output.shape[-1]):\n",
    "                    tmp_df[str(x)+str(a)] = output.iloc[:,a]\n",
    "            else:\n",
    "                tmp_df[str(x)] = output\n",
    "        except:\n",
    "            print('Error: ', x)\n",
    "\n",
    "    pre_processed_train_df = pre_processed_train_df.append(tmp_df.drop(tmp_df.head(200).index))   \n",
    "pre_processed_train_df = pre_processed_train_df.replace([np.inf, -np.inf], np.nan)\n",
    "pre_processed_train_df = pre_processed_train_df.fillna(0)\n",
    "pre_processed_train_df = pre_processed_train_df.reset_index(drop=True)\n",
    "\n",
    "pre_processed_train_df.shape, pre_processed_train_df.head(1), pre_processed_train_df.tail(1), len(pre_processed_train_df.tic.unique()), pre_processed_train_df.isna().sum()"
   ]
  },
  {
   "cell_type": "code",
   "execution_count": 4,
   "id": "66a1c0df",
   "metadata": {
    "ExecuteTime": {
     "end_time": "2023-03-24T12:39:15.663771Z",
     "start_time": "2023-03-24T12:39:15.649762Z"
    },
    "code_folding": [
     2
    ]
   },
   "outputs": [
    {
     "data": {
      "text/plain": [
       "(8061, 8061)"
      ]
     },
     "execution_count": 4,
     "metadata": {},
     "output_type": "execute_result"
    }
   ],
   "source": [
    "all_length = []\n",
    "pre_processed_train_df_2 = pre_processed_train_df.copy()\n",
    "for i in range(len(tickers)):\n",
    "    tmp_df = pre_processed_train_df_2[pre_processed_train_df_2.tic==tickers[i]]\n",
    "    all_length.append(tmp_df.shape[0])\n",
    "    \n",
    "min(all_length), max(all_length)"
   ]
  },
  {
   "cell_type": "markdown",
   "id": "e91a3120",
   "metadata": {},
   "source": [
    "# Drop Features with Too Many Zeros\n",
    "If data set contains too many zeros, the data quality will be too poor to train machine-learning or reinforcement learning models."
   ]
  },
  {
   "cell_type": "code",
   "execution_count": 5,
   "id": "2d69f2b2",
   "metadata": {
    "ExecuteTime": {
     "end_time": "2023-03-24T12:39:15.679781Z",
     "start_time": "2023-03-24T12:39:15.665772Z"
    }
   },
   "outputs": [
    {
     "data": {
      "text/plain": [
       "(70,)"
      ]
     },
     "execution_count": 5,
     "metadata": {},
     "output_type": "execute_result"
    }
   ],
   "source": [
    "columns = pre_processed_train_df_2.columns\n",
    "zeros = ((pre_processed_train_df_2==0).sum()>pre_processed_train_df_2.shape[0]*0.1)\n",
    "columns_to_drop = np.where(zeros==True)[0]\n",
    "\n",
    "columns_to_drop.shape"
   ]
  },
  {
   "cell_type": "code",
   "execution_count": 6,
   "id": "6c85d1fe",
   "metadata": {
    "ExecuteTime": {
     "end_time": "2023-03-24T12:39:15.887918Z",
     "start_time": "2023-03-24T12:39:15.681783Z"
    },
    "code_folding": [
     0
    ],
    "scrolled": true
   },
   "outputs": [
    {
     "data": {
      "text/plain": [
       "(date      0\n",
       " tic       0\n",
       " open      0\n",
       " close     0\n",
       " high      0\n",
       "          ..\n",
       " NATR      0\n",
       " TRANGE    0\n",
       " AD        0\n",
       " ADOSC     0\n",
       " OBV       0\n",
       " Length: 112, dtype: int64,\n",
       " (8061, 112),\n",
       " Index(['date', 'tic', 'open', 'close', 'high', 'low', 'volume', 'pct_change',\n",
       "        'HT_DCPERIOD', 'HT_DCPHASE',\n",
       "        ...\n",
       "        'LINEARREG_SLOPE', 'STDDEV', 'TSF', 'VAR', 'ATR', 'NATR', 'TRANGE',\n",
       "        'AD', 'ADOSC', 'OBV'],\n",
       "       dtype='object', length=112),\n",
       "                             date           tic    open   close    high  \\\n",
       " 0  2021-04-27 21:15:00.000000000  KQ.m@SHFE.rb  5390.0  5362.0  5394.0   \n",
       " 1  2021-04-27 21:30:00.000000000  KQ.m@SHFE.rb  5362.0  5344.0  5362.0   \n",
       " 2  2021-04-27 21:45:00.000000000  KQ.m@SHFE.rb  5344.0  5359.0  5363.0   \n",
       " 3  2021-04-27 22:00:00.000000000  KQ.m@SHFE.rb  5359.0  5359.0  5362.0   \n",
       " 4  2021-04-27 22:15:00.000000000  KQ.m@SHFE.rb  5359.0  5352.0  5360.0   \n",
       " \n",
       "       low    volume  pct_change  HT_DCPERIOD  HT_DCPHASE  ...  \\\n",
       " 0  5361.0  119462.0   -0.005195    21.982462  211.580373  ...   \n",
       " 1  5319.0  405226.0   -0.003357    22.000783  240.411702  ...   \n",
       " 2  5339.0  151055.0    0.002807    21.907546  264.797086  ...   \n",
       " 3  5346.0   69310.0    0.000000    21.524369  282.650817  ...   \n",
       " 4  5344.0   68302.0   -0.001306    21.117211  299.248756  ...   \n",
       " \n",
       "    LINEARREG_SLOPE     STDDEV          TSF     VAR        ATR      NATR  \\\n",
       " 0        -1.002198  20.558210  5394.340659  422.64  19.602180  0.365576   \n",
       " 1        -2.518681  28.052807  5378.538462  786.96  21.273453  0.398081   \n",
       " 2        -3.268132  24.044958  5369.417582  578.16  21.468206  0.400601   \n",
       " 3        -3.769231  14.985326  5362.087912  224.56  21.077620  0.393313   \n",
       " 4        -4.876923   6.493073  5351.065934   42.16  20.714933  0.387050   \n",
       " \n",
       "    TRANGE            AD         ADOSC        OBV  \n",
       " 0    33.0  2.684909e+06 -50754.445123  2396522.0  \n",
       " 1    43.0  2.750876e+06 -43945.747202  1991296.0  \n",
       " 2    24.0  2.851579e+06  -5123.333155  2142351.0  \n",
       " 3    16.0  2.894898e+06  25007.559696  2142351.0  \n",
       " 4    16.0  2.894898e+06  35060.419526  2074049.0  \n",
       " \n",
       " [5 rows x 112 columns],\n",
       "                                date           tic    open   close    high  \\\n",
       " 8056  2022-10-14 21:45:00.000000000  KQ.m@SHFE.rb  3736.0  3715.0  3736.0   \n",
       " 8057  2022-10-14 22:00:00.000000000  KQ.m@SHFE.rb  3715.0  3717.0  3722.0   \n",
       " 8058  2022-10-14 22:15:00.000000000  KQ.m@SHFE.rb  3717.0  3711.0  3720.0   \n",
       " 8059  2022-10-14 22:30:00.000000000  KQ.m@SHFE.rb  3711.0  3698.0  3716.0   \n",
       " 8060  2022-10-14 22:45:00.000000000  KQ.m@SHFE.rb  3698.0  3685.0  3699.0   \n",
       " \n",
       "          low    volume  pct_change  HT_DCPERIOD  HT_DCPHASE  ...  \\\n",
       " 8056  3714.0  130507.0   -0.005621    31.178820  207.277208  ...   \n",
       " 8057  3711.0   74800.0    0.000538    30.849393  220.013748  ...   \n",
       " 8058  3706.0   83333.0   -0.001614    31.624635  228.498982  ...   \n",
       " 8059  3692.0  130630.0   -0.003503    31.420982  246.784324  ...   \n",
       " 8060  3683.0  126543.0   -0.003515    30.609190  260.302071  ...   \n",
       " \n",
       "       LINEARREG_SLOPE     STDDEV          TSF     VAR        ATR      NATR  \\\n",
       " 8056        -2.714286  14.093970  3731.428571  198.64  14.800397  0.398396   \n",
       " 8057        -3.635165  10.225458  3721.879121  104.56  14.528940  0.390878   \n",
       " 8058        -4.235165  10.111380  3713.593407  102.24  14.491159  0.390492   \n",
       " 8059        -4.940659  12.240915  3703.516484  149.84  15.170362  0.410232   \n",
       " 8060        -5.953846  12.073111  3690.703297  145.76  15.229621  0.413287   \n",
       " \n",
       "       TRANGE             AD          ADOSC        OBV  \n",
       " 8056    22.0 -756216.642082  -94931.140657 -5672494.0  \n",
       " 8057    11.0 -749416.642082  -98698.403520 -5597694.0  \n",
       " 8058    14.0 -773226.070654  -98842.701644 -5681027.0  \n",
       " 8059    24.0 -838541.070654 -110698.078000 -5811657.0  \n",
       " 8060    16.0 -933448.320654 -135682.304418 -5938200.0  \n",
       " \n",
       " [5 rows x 112 columns])"
      ]
     },
     "execution_count": 6,
     "metadata": {},
     "output_type": "execute_result"
    }
   ],
   "source": [
    "for i in range(columns_to_drop.shape[0]):\n",
    "    tmp_index = columns_to_drop[i]\n",
    "    tmp_column = columns[tmp_index]\n",
    "    pre_processed_train_df_2 = pre_processed_train_df_2.drop(columns=tmp_column)\n",
    "\n",
    "pre_processed_train_df_2.isna().sum(), pre_processed_train_df_2.shape, pre_processed_train_df_2.columns, pre_processed_train_df_2.head(5), pre_processed_train_df_2.tail(5)"
   ]
  },
  {
   "cell_type": "markdown",
   "id": "1ef4dc50",
   "metadata": {},
   "source": [
    "# Only Keep Valid Features\n",
    " The indicator is filtered by finding out the corrolation between this term's indicator result and the next term's return rate. The more positive the corrolation is the stronger the indicator's ability to perdict the next term's return is."
   ]
  },
  {
   "cell_type": "code",
   "execution_count": 7,
   "id": "d03de562",
   "metadata": {
    "ExecuteTime": {
     "end_time": "2023-03-24T12:39:16.528338Z",
     "start_time": "2023-03-24T12:39:15.888919Z"
    },
    "code_folding": [
     4
    ],
    "scrolled": true
   },
   "outputs": [
    {
     "name": "stderr",
     "output_type": "stream",
     "text": [
      "100%|███████████████████████████████████████████████████████████████████████████████| 104/104 [00:00<00:00, 166.82it/s]\n"
     ]
    },
    {
     "data": {
      "text/plain": [
       "(    correlation              factors\n",
       " 0      0.039332                   DX\n",
       " 1      0.026986               CORREL\n",
       " 2      0.024708           HT_PHASOR1\n",
       " 3      0.024447                  SUB\n",
       " 4      0.023742             MINUS_DM\n",
       " 5      0.021331               TRANGE\n",
       " 6      0.020823             MINUS_DI\n",
       " 7      0.020666                  DIV\n",
       " 8      0.020386                  ATR\n",
       " 9      0.017454                   AD\n",
       " 10     0.014793                  MAX\n",
       " 11     0.014793              MINMAX1\n",
       " 12     0.014399  LINEARREG_INTERCEPT\n",
       " 13     0.014075                  ADX\n",
       " 14     0.014033                TRIMA\n",
       " 15     0.013878                 NATR\n",
       " 16     0.013877               STDDEV\n",
       " 17     0.013828         HT_TRENDLINE\n",
       " 18     0.013669                 KAMA\n",
       " 19     0.013573                  SUM\n",
       " 20     0.013573                  SMA\n",
       " 21     0.013573                   MA\n",
       " 22     0.013515                  SAR\n",
       " 23     0.013259                  WMA\n",
       " 24     0.013172                  EMA\n",
       " 25     0.013034             MIDPRICE\n",
       " 26     0.012967                MAMA1\n",
       " 27     0.012918             MIDPOINT\n",
       " 28     0.012647                 DEMA\n",
       " 29     0.012399              BBANDS0,\n",
       " ['DX',\n",
       "  'CORREL',\n",
       "  'HT_PHASOR1',\n",
       "  'SUB',\n",
       "  'MINUS_DM',\n",
       "  'TRANGE',\n",
       "  'MINUS_DI',\n",
       "  'DIV',\n",
       "  'ATR',\n",
       "  'AD',\n",
       "  'MAX',\n",
       "  'MINMAX1',\n",
       "  'LINEARREG_INTERCEPT',\n",
       "  'ADX',\n",
       "  'TRIMA',\n",
       "  'NATR',\n",
       "  'STDDEV',\n",
       "  'HT_TRENDLINE',\n",
       "  'KAMA',\n",
       "  'SUM',\n",
       "  'SMA',\n",
       "  'MA',\n",
       "  'SAR',\n",
       "  'WMA',\n",
       "  'EMA',\n",
       "  'MIDPRICE',\n",
       "  'MAMA1',\n",
       "  'MIDPOINT',\n",
       "  'DEMA',\n",
       "  'BBANDS0'])"
      ]
     },
     "execution_count": 7,
     "metadata": {},
     "output_type": "execute_result"
    }
   ],
   "source": [
    "factors = pre_processed_train_df_2.columns[8:]\n",
    "tickers = pre_processed_train_df_2.tic.unique()\n",
    "corr_list = []\n",
    "corr_df = pd.DataFrame()\n",
    "for i in tqdm(range(len(factors))):\n",
    "    tmp_corr_2 = []\n",
    "    for a in tickers:\n",
    "        tmp_df = pre_processed_train_df_2[pre_processed_train_df_2.tic==a]\n",
    "        tmp_df['pct_change'] = tmp_df.close.pct_change(-1).fillna(0)\n",
    "        tmp_corr = np.corrcoef(tmp_df['pct_change'].values, tmp_df[factors[i]].values)[0][-1]\n",
    "        tmp_corr_2.append(np.nan_to_num(tmp_corr))\n",
    "    corr_list.append(np.mean(tmp_corr))\n",
    "        \n",
    "corr_df['correlation'] = corr_list\n",
    "corr_df['factors'] = factors\n",
    "corr_df = corr_df.dropna()\n",
    "corr_df = corr_df.sort_values(by=\"correlation\",ascending=False).reset_index(drop=True)\n",
    "\n",
    "corr_df.head(30), corr_df.head(30)['factors'].to_list()"
   ]
  },
  {
   "cell_type": "code",
   "execution_count": null,
   "id": "22ebd9ef",
   "metadata": {},
   "outputs": [],
   "source": []
  }
 ],
 "metadata": {
  "kernelspec": {
   "display_name": "Python 3 (ipykernel)",
   "language": "python",
   "name": "python3"
  },
  "language_info": {
   "codemirror_mode": {
    "name": "ipython",
    "version": 3
   },
   "file_extension": ".py",
   "mimetype": "text/x-python",
   "name": "python",
   "nbconvert_exporter": "python",
   "pygments_lexer": "ipython3",
   "version": "3.9.13"
  },
  "toc": {
   "base_numbering": 1,
   "nav_menu": {},
   "number_sections": true,
   "sideBar": true,
   "skip_h1_title": false,
   "title_cell": "Table of Contents",
   "title_sidebar": "Contents",
   "toc_cell": false,
   "toc_position": {},
   "toc_section_display": true,
   "toc_window_display": false
  },
  "varInspector": {
   "cols": {
    "lenName": 16,
    "lenType": 16,
    "lenVar": 40
   },
   "kernels_config": {
    "python": {
     "delete_cmd_postfix": "",
     "delete_cmd_prefix": "del ",
     "library": "var_list.py",
     "varRefreshCmd": "print(var_dic_list())"
    },
    "r": {
     "delete_cmd_postfix": ") ",
     "delete_cmd_prefix": "rm(",
     "library": "var_list.r",
     "varRefreshCmd": "cat(var_dic_list()) "
    }
   },
   "types_to_exclude": [
    "module",
    "function",
    "builtin_function_or_method",
    "instance",
    "_Feature"
   ],
   "window_display": false
  },
  "vscode": {
   "interpreter": {
    "hash": "71159c3bea1635b2cdba277ecffbc628f93ffdcebf06bf6a363dd68ab8387877"
   }
  }
 },
 "nbformat": 4,
 "nbformat_minor": 5
}
